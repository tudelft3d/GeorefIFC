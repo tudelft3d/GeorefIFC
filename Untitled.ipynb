{
 "cells": [
  {
   "cell_type": "code",
   "execution_count": 1,
   "id": "0addeab2",
   "metadata": {},
   "outputs": [
    {
     "name": "stdout",
     "output_type": "stream",
     "text": [
      "<_io.TextIOWrapper name='envelop\\\\00.json' mode='w+' encoding='cp1252'>\n"
     ]
    }
   ],
   "source": [
    "import subprocess\n",
    "import os\n",
    "import time\n",
    "import re\n",
    "import json\n",
    "filename = '00.ifc'\n",
    "json_dict = {\n",
    "\"Filepaths\": {\n",
    "    \"Input\" : ['./uploads/'+filename],\n",
    "    \"Output\" : \"./envelop/\"\n",
    "},\n",
    "\"voxelSize\" : {\n",
    "    \"xy\" : 1,\n",
    "    \"z\" : 1\n",
    "},\n",
    "\"Footprint elevation\" : 0.15,\n",
    "\"Output report\" : 1,\n",
    "\"LoD output\" : [0.2],\n",
    "\"Ignore Proxy\" : 1\n",
    "}\n",
    "\n",
    "\n",
    "fnjson = re.sub('\\.ifc$','.json', filename)\n",
    "json_file = open(os.path.join('envelop', fnjson), 'w+')\n",
    "json_file.write(json.dumps(json_dict, indent=1))\n",
    "json_file.close()\n",
    "print(json_file)\n"
   ]
  },
  {
   "cell_type": "code",
   "execution_count": 5,
   "id": "8c73decc",
   "metadata": {},
   "outputs": [
    {
     "name": "stdout",
     "output_type": "stream",
     "text": [
      "Y:\\Desktop\\venv\\envelop\\EnvNew.exe\n",
      "Y:\\Desktop\\venv\\envelop\\00.json\n"
     ]
    }
   ],
   "source": [
    "# Construct the full file paths relative to the current working directory\n",
    "path1 = os.path.join(os.getcwd(), 'envelop','EnvNew.exe')\n",
    "path2 = os.path.join(os.getcwd(), 'envelop', fnjson)\n",
    "result = subprocess.Popen([path1 , path2],    stdout=subprocess.DEVNULL,\n",
    "    stderr=subprocess.DEVNULL)\n",
    "print(path1)\n",
    "print(path2)\n",
    "\n",
    "while result.poll() is None:    time.sleep(0.5)\n",
    "if result.returncode == 0:\n",
    "        print(\"\\r\", \"Success\")"
   ]
  },
  {
   "cell_type": "code",
   "execution_count": null,
   "id": "65787942",
   "metadata": {},
   "outputs": [],
   "source": []
  }
 ],
 "metadata": {
  "kernelspec": {
   "display_name": "Python 3 (ipykernel)",
   "language": "python",
   "name": "python3"
  },
  "language_info": {
   "codemirror_mode": {
    "name": "ipython",
    "version": 3
   },
   "file_extension": ".py",
   "mimetype": "text/x-python",
   "name": "python",
   "nbconvert_exporter": "python",
   "pygments_lexer": "ipython3",
   "version": "3.11.5"
  }
 },
 "nbformat": 4,
 "nbformat_minor": 5
}
