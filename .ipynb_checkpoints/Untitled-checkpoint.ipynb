{
 "cells": [
  {
   "cell_type": "code",
   "execution_count": 2,
   "id": "0addeab2",
   "metadata": {},
   "outputs": [
    {
     "name": "stdout",
     "output_type": "stream",
     "text": [
      "\r",
      " Success\n"
     ]
    }
   ],
   "source": [
    "import subprocess\n",
    "import os\n",
    "import time\n",
    "filename = '00.ifc'\n",
    "fnjson = re.sub('\\.ifc$','.json', filename)\n",
    "# Construct the full file paths relative to the current working directory\n",
    "path1 = os.path.join(os.getcwd(), 'Ifc_Envelope_Extractor_ifc4.exe')\n",
    "path2 = os.path.join(os.getcwd(), 'JSON_footprint.json')\n",
    "result = subprocess.Popen([path1 , path2],    stdout=subprocess.DEVNULL,\n",
    "    stderr=subprocess.DEVNULL)\n",
    "while result.poll() is None:    time.sleep(0.5)\n",
    "if result.returncode == 0:\n",
    "    print(\"\\r\", \"Success\")"
   ]
  },
  {
   "cell_type": "code",
   "execution_count": null,
   "id": "8c73decc",
   "metadata": {},
   "outputs": [],
   "source": []
  },
  {
   "cell_type": "code",
   "execution_count": null,
   "id": "65787942",
   "metadata": {},
   "outputs": [],
   "source": []
  }
 ],
 "metadata": {
  "kernelspec": {
   "display_name": "Python 3 (ipykernel)",
   "language": "python",
   "name": "python3"
  },
  "language_info": {
   "codemirror_mode": {
    "name": "ipython",
    "version": 3
   },
   "file_extension": ".py",
   "mimetype": "text/x-python",
   "name": "python",
   "nbconvert_exporter": "python",
   "pygments_lexer": "ipython3",
   "version": "3.11.5"
  }
 },
 "nbformat": 4,
 "nbformat_minor": 5
}
